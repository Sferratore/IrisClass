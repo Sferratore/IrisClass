{
 "cells": [
  {
   "cell_type": "markdown",
   "id": "d5647fae-e8cf-477f-a626-6982ce44810b",
   "metadata": {},
   "source": [
    "# IrisClass\n",
    "IrisClass è un progetto di ML che prevede la classificazione del fiore Iris a seconda delle qualità del suo petalo e del sepalo."
   ]
  },
  {
   "cell_type": "code",
   "execution_count": 2,
   "id": "18f11b92-4a2e-4411-83b5-3afa229f4fda",
   "metadata": {},
   "outputs": [],
   "source": [
    "import scipy\n",
    "from pandas import read_csv\n",
    "from pandas.plotting import scatter_matrix\n",
    "from matplotlib import pyplot as plt\n",
    "from sklearn.model_selection import train_test_split\n",
    "from sklearn.model_selection import cross_val_score\n",
    "from sklearn.model_selection import StratifiedKFold\n",
    "from sklearn.metrics import classification_report\n",
    "from sklearn.metrics import confusion_matrix\n",
    "from sklearn.metrics import accuracy_score\n",
    "from sklearn.linear_model import LogisticRegression\n",
    "from sklearn.tree import DecisionTreeClassifier\n",
    "from sklearn.neighbors import KNeighborsClassifier\n",
    "from sklearn.discriminant_analysis import LinearDiscriminantAnalysis\n",
    "from sklearn.naive_bayes import GaussianNB\n",
    "from sklearn.svm import SVC"
   ]
  },
  {
   "cell_type": "markdown",
   "id": "3704500e-9156-48f7-98f9-40916da372e1",
   "metadata": {},
   "source": [
    "## Caricamento del Dataset"
   ]
  },
  {
   "cell_type": "code",
   "execution_count": 3,
   "id": "080b14ed-dddc-4edb-85a7-e92447467d68",
   "metadata": {},
   "outputs": [],
   "source": [
    "url = \"https://raw.githubusercontent.com/jbrownlee/Datasets/master/iris.csv\"  # Dataset from UCI Machine Learning Repository\n",
    "names = ['sepal-length', 'sepal-width', 'petal-length', 'petal-width', 'class'] # Column names\n",
    "dataset = read_csv(url, names=names) # Dataset will contain the data from the url organized by the columns defined in \"names\""
   ]
  },
  {
   "cell_type": "markdown",
   "id": "2f65c03b-8052-4c4b-b132-9df68e39bf04",
   "metadata": {},
   "source": [
    "## Stampando la \"forma\" (Shape), cioè istanze (rows) e attributi (columns)"
   ]
  },
  {
   "cell_type": "code",
   "execution_count": 4,
   "id": "4a1f1c95-2887-4183-9b4a-77afda282980",
   "metadata": {},
   "outputs": [
    {
     "name": "stdout",
     "output_type": "stream",
     "text": [
      "(150, 5)\n"
     ]
    }
   ],
   "source": [
    "print(dataset.shape)"
   ]
  },
  {
   "cell_type": "markdown",
   "id": "9077ecc2-fe04-4f69-9190-804be7f1ce27",
   "metadata": {},
   "source": [
    "## Stampando la \"testa\" (Head), visualizzazione di 20 righe di dati"
   ]
  },
  {
   "cell_type": "code",
   "execution_count": 5,
   "id": "4a21447b-22b2-4b83-88c4-5098bec00064",
   "metadata": {},
   "outputs": [
    {
     "name": "stdout",
     "output_type": "stream",
     "text": [
      "    sepal-length  sepal-width  petal-length  petal-width        class\n",
      "0            5.1          3.5           1.4          0.2  Iris-setosa\n",
      "1            4.9          3.0           1.4          0.2  Iris-setosa\n",
      "2            4.7          3.2           1.3          0.2  Iris-setosa\n",
      "3            4.6          3.1           1.5          0.2  Iris-setosa\n",
      "4            5.0          3.6           1.4          0.2  Iris-setosa\n",
      "5            5.4          3.9           1.7          0.4  Iris-setosa\n",
      "6            4.6          3.4           1.4          0.3  Iris-setosa\n",
      "7            5.0          3.4           1.5          0.2  Iris-setosa\n",
      "8            4.4          2.9           1.4          0.2  Iris-setosa\n",
      "9            4.9          3.1           1.5          0.1  Iris-setosa\n",
      "10           5.4          3.7           1.5          0.2  Iris-setosa\n",
      "11           4.8          3.4           1.6          0.2  Iris-setosa\n",
      "12           4.8          3.0           1.4          0.1  Iris-setosa\n",
      "13           4.3          3.0           1.1          0.1  Iris-setosa\n",
      "14           5.8          4.0           1.2          0.2  Iris-setosa\n",
      "15           5.7          4.4           1.5          0.4  Iris-setosa\n",
      "16           5.4          3.9           1.3          0.4  Iris-setosa\n",
      "17           5.1          3.5           1.4          0.3  Iris-setosa\n",
      "18           5.7          3.8           1.7          0.3  Iris-setosa\n",
      "19           5.1          3.8           1.5          0.3  Iris-setosa\n"
     ]
    }
   ],
   "source": [
    "print(dataset.head(20))"
   ]
  },
  {
   "cell_type": "markdown",
   "id": "77c74054-95ee-434e-997a-a98c22cc0357",
   "metadata": {},
   "source": [
    "## Visualizzazione dati per attributi"
   ]
  },
  {
   "cell_type": "code",
   "execution_count": 6,
   "id": "4a679d35-93e4-4e6e-972e-1269ef54a81a",
   "metadata": {},
   "outputs": [
    {
     "name": "stdout",
     "output_type": "stream",
     "text": [
      "       sepal-length  sepal-width  petal-length  petal-width\n",
      "count    150.000000   150.000000    150.000000   150.000000\n",
      "mean       5.843333     3.054000      3.758667     1.198667\n",
      "std        0.828066     0.433594      1.764420     0.763161\n",
      "min        4.300000     2.000000      1.000000     0.100000\n",
      "25%        5.100000     2.800000      1.600000     0.300000\n",
      "50%        5.800000     3.000000      4.350000     1.300000\n",
      "75%        6.400000     3.300000      5.100000     1.800000\n",
      "max        7.900000     4.400000      6.900000     2.500000\n"
     ]
    }
   ],
   "source": [
    "print(dataset.describe())"
   ]
  },
  {
   "cell_type": "markdown",
   "id": "0175db32-cdc3-461f-a0c3-c3fafbba76db",
   "metadata": {},
   "source": [
    "## Analizzando le righe che appartengono a ciascuna classe"
   ]
  },
  {
   "cell_type": "code",
   "execution_count": 7,
   "id": "4d18b4d7-cded-4364-8af3-8b07563aabeb",
   "metadata": {},
   "outputs": [
    {
     "name": "stdout",
     "output_type": "stream",
     "text": [
      "class\n",
      "Iris-setosa        50\n",
      "Iris-versicolor    50\n",
      "Iris-virginica     50\n",
      "dtype: int64\n"
     ]
    }
   ],
   "source": [
    "print(dataset.groupby('class').size())"
   ]
  },
  {
   "cell_type": "markdown",
   "id": "3dac525b-78ba-47d5-80b3-9d33daa507fb",
   "metadata": {},
   "source": [
    "## Distribuzione nel Plot\n",
    "Questo box plot serve per capire come sono distribuiti i numeri in ogni colonna del dataset. Ogni \"scatola\" (box) rappresenta una colonna e ti fa vedere:\n",
    "- La riga nel mezzo è la mediana: cioè il numero che sta proprio a metà se ordini tutti i valori.\n",
    "- Il box (la scatola) va dal 25% al 75% dei valori: mostra dove si concentrano la maggior parte dei dati.\n",
    "- Le linee che escono dalla scatola (chiamate \"baffi\" o whiskers) vanno verso i valori più piccoli e più grandi, ma solo finché sono ancora \"normali\" (non troppo lontani).\n",
    "- I puntini fuori dai baffi sono i valori anomali (outlier): numeri troppo alti o troppo bassi rispetto agli altri.\n",
    "In pratica, con questo grafico puoi vedere velocemente com’è fatta ogni colonna: se ha valori strani, se i dati sono distribuiti in modo equilibrato o se sono tutti spostati verso l’alto o il basso."
   ]
  },
  {
   "cell_type": "code",
   "execution_count": null,
   "id": "4ffd0239-d5e5-4993-adf7-4abfcac7b3c7",
   "metadata": {},
   "outputs": [],
   "source": [
    "dataset.plot(kind='box', subplots=True, layout=(2,2), sharex=False, sharey=False)\n",
    "plt.show()"
   ]
  }
 ],
 "metadata": {
  "kernelspec": {
   "display_name": "Python 3 (ipykernel)",
   "language": "python",
   "name": "python3"
  },
  "language_info": {
   "codemirror_mode": {
    "name": "ipython",
    "version": 3
   },
   "file_extension": ".py",
   "mimetype": "text/x-python",
   "name": "python",
   "nbconvert_exporter": "python",
   "pygments_lexer": "ipython3",
   "version": "3.13.0"
  }
 },
 "nbformat": 4,
 "nbformat_minor": 5
}
