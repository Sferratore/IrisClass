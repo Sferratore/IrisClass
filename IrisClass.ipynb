{
 "cells": [
  {
   "cell_type": "markdown",
   "id": "d5647fae-e8cf-477f-a626-6982ce44810b",
   "metadata": {},
   "source": [
    "# IrisClass\n",
    "IrisClass è un progetto di ML che prevede la classificazione del fiore Iris a seconda delle qualità del suo petalo e del sepalo."
   ]
  },
  {
   "cell_type": "code",
   "execution_count": 1,
   "id": "18f11b92-4a2e-4411-83b5-3afa229f4fda",
   "metadata": {},
   "outputs": [],
   "source": [
    "import scipy\n",
    "from pandas import read_csv\n",
    "from pandas.plotting import scatter_matrix\n",
    "from matplotlib import pyplot as plt\n",
    "from sklearn.model_selection import train_test_split\n",
    "from sklearn.model_selection import cross_val_score\n",
    "from sklearn.model_selection import StratifiedKFold\n",
    "from sklearn.metrics import classification_report\n",
    "from sklearn.metrics import confusion_matrix\n",
    "from sklearn.metrics import accuracy_score\n",
    "from sklearn.linear_model import LogisticRegression\n",
    "from sklearn.tree import DecisionTreeClassifier\n",
    "from sklearn.neighbors import KNeighborsClassifier\n",
    "from sklearn.discriminant_analysis import LinearDiscriminantAnalysis\n",
    "from sklearn.naive_bayes import GaussianNB\n",
    "from sklearn.svm import SVC"
   ]
  },
  {
   "cell_type": "code",
   "execution_count": null,
   "id": "080b14ed-dddc-4edb-85a7-e92447467d68",
   "metadata": {},
   "outputs": [],
   "source": [
    "url = \"https://raw.githubusercontent.com/jbrownlee/Datasets/master/iris.csv\"  # Dataset from UCI Machine Learning Repository\n",
    "names = ['sepal-length', 'sepal-width', 'petal-length', 'petal-width', 'class'] # Column names\n",
    "dataset = read_csv(url, names=names) # Dataset will contain the data from the url organized by the columns defined in \"names\""
   ]
  }
 ],
 "metadata": {
  "kernelspec": {
   "display_name": "Python 3 (ipykernel)",
   "language": "python",
   "name": "python3"
  },
  "language_info": {
   "codemirror_mode": {
    "name": "ipython",
    "version": 3
   },
   "file_extension": ".py",
   "mimetype": "text/x-python",
   "name": "python",
   "nbconvert_exporter": "python",
   "pygments_lexer": "ipython3",
   "version": "3.13.0"
  }
 },
 "nbformat": 4,
 "nbformat_minor": 5
}
